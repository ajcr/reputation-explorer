{
 "cells": [
  {
   "cell_type": "markdown",
   "metadata": {},
   "source": [
    "# Reputation Explorer\n",
    "\n",
    "So you're active on [Stack Overflow](http://stackoverflow.com/) or another site in the Stack Exchange network.\n",
    "\n",
    "If you're curious, you can find a lot of data about exactly how you've accumulated reputation using [Stack Exchange Data Explorer](https://data.stackexchange.com/). However, data about *when* your reputation was gained or lost is not accessible here. \n",
    "\n",
    "What do you do if, for instance, you want to see exactly how one of your answers have been voted on over time? This notebook shows a simple way to find, clean and then dig into this data using [pandas](http://pandas.pydata.org/).\n",
    "\n",
    "## Getting the raw data\n",
    "\n",
    "The first step is to log in to your account and navigate to the *reputation* subdirectory, e.g. [stackoverflow.com/reputation](http://stackoverflow.com/reputation). You should see a lot of lines of text containing dates and numbers decribing reputation gains and losses. For more information about this page see [here](http://meta.stackexchange.com/questions/43004/how-do-i-audit-my-reputation).\n",
    "\n",
    "Save this huge wall of text to a file 'rep.txt' in your working directory. The first line of the file will look something like this:"
   ]
  },
  {
   "cell_type": "code",
   "execution_count": 45,
   "metadata": {
    "collapsed": false
   },
   "outputs": [
    {
     "name": "stdout",
     "output_type": "stream",
     "text": [
      "total votes: 3865\r\n",
      " 2  25210096 (5)\r\n",
      " 2  25210096 (5)\r\n",
      " 1  25210517 (2)\r\n",
      "-- 2014-08-08 rep +12   = 13        \r\n",
      " 2  25222542 (10)\r\n",
      " 2  25222542 (10)\r\n",
      " 2  25222542 (10)\r\n",
      " 2  25222542 (10)\r\n",
      "-- 2014-08-09 rep +40   = 53        \r\n",
      " 2  25240280 (10)\r\n",
      " 2  25240280 (10)\r\n",
      " 2  25233555 (10)\r\n",
      " 1  25233555 (15)\r\n",
      "-- 2014-08-11 rep +45   = 98        \r\n"
     ]
    }
   ],
   "source": [
    "!head -n15 rep.txt # on Unix systems"
   ]
  },
  {
   "cell_type": "markdown",
   "metadata": {},
   "source": [
    "## Cleaning the raw data\n",
    "\n",
    "To process this big block of free text into something more structured we're going to need some helper functions.\n",
    "\n",
    "The general idea here is to first group the lines of the raw data into alternating blocks of reputation changes and dates. Useful data will then extracted from each line of each block; each reputation change event will be combined with the date on which it occurred."
   ]
  },
  {
   "cell_type": "code",
   "execution_count": 1,
   "metadata": {
    "collapsed": false
   },
   "outputs": [],
   "source": [
    "import itertools\n",
    "import re\n",
    "\n",
    "def is_date_line(line):\n",
    "    # date lines have the following form:\n",
    "    # -- 2016-01-01 rep +20   = 1003\n",
    "    return bool(re.match('-- [0-9\\-]{10}', line))\n",
    "\n",
    "def extract_date_from_date_line(line):\n",
    "    return line.split(None, 2)[1]\n",
    "\n",
    "def is_rep_line(line):\n",
    "    # ignoring date lines, rep lines are \n",
    "    # those that do not begin with '--', e.g.:\n",
    "    #  3 2134521  10\n",
    "    return not line.startswith('--')\n",
    "\n",
    "def extract_data_from_rep_line(line):\n",
    "    data = line.split()\n",
    "    data[2] = data[2].strip('()[]')\n",
    "    return [int(d) for d in data]\n",
    "\n",
    "def make_date_rep_blocks(raw_data):\n",
    "    # The data we're interested in lies between lines 1 and -13\n",
    "    useful_data = raw_data[1:-13]\n",
    "    # Group these lines into dates blocks and rep change blocks\n",
    "    return [list(v) for k,v in itertools.groupby(useful_data, key=is_date_line)]\n",
    "\n",
    "def clean_rep_block(block):\n",
    "    return [extract_data_from_rep_line(line) for line in block if is_rep_line(line)]\n",
    "\n",
    "def combine_date_with_rep_data(date_string, rep_data_block):\n",
    "    return [[date_string]+line for line in rep_data_block]\n",
    "\n",
    "def structure_data(raw_data):\n",
    "    \"\"\"\n",
    "    Convert the raw data to a list of lists. \n",
    "    Returns: [[date, rep_type, post_id, rep_change], ...]\n",
    "    \"\"\"\n",
    "    data = make_date_rep_blocks(raw_data)\n",
    "    dates = (extract_date_from_date_line(date_block[0]) for date_block in data[1::2])\n",
    "    rep_data = (clean_rep_block(block) for block in data[0::2])\n",
    "    final_blocks = (combine_date_with_rep_data(*pair) for pair in zip(dates, rep_data))\n",
    "    return [line for block in final_blocks for line in block]"
   ]
  },
  {
   "cell_type": "markdown",
   "metadata": {
    "collapsed": false
   },
   "source": [
    "Now we can read in the raw data and parse it into a nicer format:"
   ]
  },
  {
   "cell_type": "code",
   "execution_count": 2,
   "metadata": {
    "collapsed": false
   },
   "outputs": [],
   "source": [
    "with open('rep.txt', 'r') as f:\n",
    "    raw_data = f.readlines()\n",
    "\n",
    "data = structure_data(raw_data)"
   ]
  },
  {
   "cell_type": "markdown",
   "metadata": {},
   "source": [
    "`data` is a list of lists, each containing a date, a reputation change *type* (for example 2 means upvote, 3 means downvote), a post ID associated with the change in reputation, and the number of reputation points gained or lost:"
   ]
  },
  {
   "cell_type": "code",
   "execution_count": 3,
   "metadata": {
    "collapsed": false
   },
   "outputs": [
    {
     "data": {
      "text/plain": [
       "[['2014-08-08', 2, 25210096, 5],\n",
       " ['2014-08-08', 2, 25210096, 5],\n",
       " ['2014-08-08', 1, 25210517, 2],\n",
       " ['2014-08-09', 2, 25222542, 10],\n",
       " ['2014-08-09', 2, 25222542, 10],\n",
       " ['2014-08-09', 2, 25222542, 10],\n",
       " ['2014-08-09', 2, 25222542, 10],\n",
       " ['2014-08-11', 2, 25240280, 10],\n",
       " ['2014-08-11', 2, 25240280, 10],\n",
       " ['2014-08-11', 2, 25233555, 10]]"
      ]
     },
     "execution_count": 3,
     "metadata": {},
     "output_type": "execute_result"
    }
   ],
   "source": [
    "data[:10]"
   ]
  },
  {
   "cell_type": "markdown",
   "metadata": {},
   "source": [
    "## Exploring the data with pandas\n",
    "\n",
    "We can easily put this structured data into a pandas DataFrame. After that, we can slice, dice and plot it however we like."
   ]
  },
  {
   "cell_type": "code",
   "execution_count": 17,
   "metadata": {
    "collapsed": false
   },
   "outputs": [],
   "source": [
    "%matplotlib inline\n",
    "\n",
    "import matplotlib.pyplot as plt\n",
    "\n",
    "import matplotlib\n",
    "matplotlib.style.use('ggplot')\n",
    "matplotlib.rcParams['figure.figsize'] = (12.0, 8.0)\n",
    "\n",
    "import pandas as pd"
   ]
  },
  {
   "cell_type": "code",
   "execution_count": 24,
   "metadata": {
    "collapsed": false
   },
   "outputs": [
    {
     "data": {
      "text/html": [
       "<div>\n",
       "<table border=\"1\" class=\"dataframe\">\n",
       "  <thead>\n",
       "    <tr style=\"text-align: right;\">\n",
       "      <th></th>\n",
       "      <th>date</th>\n",
       "      <th>rep_type</th>\n",
       "      <th>post_id</th>\n",
       "      <th>rep_change</th>\n",
       "    </tr>\n",
       "  </thead>\n",
       "  <tbody>\n",
       "    <tr>\n",
       "      <th>0</th>\n",
       "      <td>2014-08-08</td>\n",
       "      <td>2</td>\n",
       "      <td>25210096</td>\n",
       "      <td>5</td>\n",
       "    </tr>\n",
       "    <tr>\n",
       "      <th>1</th>\n",
       "      <td>2014-08-08</td>\n",
       "      <td>2</td>\n",
       "      <td>25210096</td>\n",
       "      <td>5</td>\n",
       "    </tr>\n",
       "    <tr>\n",
       "      <th>2</th>\n",
       "      <td>2014-08-08</td>\n",
       "      <td>1</td>\n",
       "      <td>25210517</td>\n",
       "      <td>2</td>\n",
       "    </tr>\n",
       "    <tr>\n",
       "      <th>3</th>\n",
       "      <td>2014-08-09</td>\n",
       "      <td>2</td>\n",
       "      <td>25222542</td>\n",
       "      <td>10</td>\n",
       "    </tr>\n",
       "    <tr>\n",
       "      <th>4</th>\n",
       "      <td>2014-08-09</td>\n",
       "      <td>2</td>\n",
       "      <td>25222542</td>\n",
       "      <td>10</td>\n",
       "    </tr>\n",
       "    <tr>\n",
       "      <th>5</th>\n",
       "      <td>2014-08-09</td>\n",
       "      <td>2</td>\n",
       "      <td>25222542</td>\n",
       "      <td>10</td>\n",
       "    </tr>\n",
       "    <tr>\n",
       "      <th>6</th>\n",
       "      <td>2014-08-09</td>\n",
       "      <td>2</td>\n",
       "      <td>25222542</td>\n",
       "      <td>10</td>\n",
       "    </tr>\n",
       "    <tr>\n",
       "      <th>7</th>\n",
       "      <td>2014-08-11</td>\n",
       "      <td>2</td>\n",
       "      <td>25240280</td>\n",
       "      <td>10</td>\n",
       "    </tr>\n",
       "    <tr>\n",
       "      <th>8</th>\n",
       "      <td>2014-08-11</td>\n",
       "      <td>2</td>\n",
       "      <td>25240280</td>\n",
       "      <td>10</td>\n",
       "    </tr>\n",
       "    <tr>\n",
       "      <th>9</th>\n",
       "      <td>2014-08-11</td>\n",
       "      <td>2</td>\n",
       "      <td>25233555</td>\n",
       "      <td>10</td>\n",
       "    </tr>\n",
       "  </tbody>\n",
       "</table>\n",
       "</div>"
      ],
      "text/plain": [
       "        date  rep_type   post_id  rep_change\n",
       "0 2014-08-08         2  25210096           5\n",
       "1 2014-08-08         2  25210096           5\n",
       "2 2014-08-08         1  25210517           2\n",
       "3 2014-08-09         2  25222542          10\n",
       "4 2014-08-09         2  25222542          10\n",
       "5 2014-08-09         2  25222542          10\n",
       "6 2014-08-09         2  25222542          10\n",
       "7 2014-08-11         2  25240280          10\n",
       "8 2014-08-11         2  25240280          10\n",
       "9 2014-08-11         2  25233555          10"
      ]
     },
     "execution_count": 24,
     "metadata": {},
     "output_type": "execute_result"
    }
   ],
   "source": [
    "df = pd.DataFrame(data, columns=['date', 'rep_type', 'post_id', 'rep_change'])\n",
    "df['date'] = pd.to_datetime(df['date'], format='%Y-%m-%d')\n",
    "\n",
    "df.head(10)"
   ]
  },
  {
   "cell_type": "markdown",
   "metadata": {
    "collapsed": false
   },
   "source": [
    "\n",
    "\n",
    "To begin, I'll pick a couple of answers I wrote a while ago ([25774395](http://stackoverflow.com/a/25774395/3923281) and [31593712](http://stackoverflow.com/a/31593712/3923281)). Plotting cumulative upvotes against dates, I can see that one has recently increased in popularity, while the other is getting a steady trickle of upvotes:"
   ]
  },
  {
   "cell_type": "code",
   "execution_count": 10,
   "metadata": {
    "collapsed": false
   },
   "outputs": [
    {
     "data": {
      "image/png": "[encoded data removed]",
      "text/plain": [
       "<matplotlib.figure.Figure at 0x7fcae043b780>"
      ]
     },
     "metadata": {},
     "output_type": "display_data"
    }
   ],
   "source": [
    "# subset of DataFrame containing upvotes for post IDs\n",
    "df2 = df.loc[(df['rep_type'] == 2) & (df['post_id'].isin([25774395, 31593712]))]\n",
    "\n",
    "# count the number of upvotes for each question on each date\n",
    "grouped = df2.groupby(['date', 'post_id']).size()\n",
    "# unstack, find the cumulative sum and then plot\n",
    "grouped.unstack(level=1, fill_value=0).cumsum().plot.line();"
   ]
  },
  {
   "cell_type": "markdown",
   "metadata": {},
   "source": [
    "It's also interesting to see how the number of upvotes varies over time. Using the [`resample`](http://pandas.pydata.org/pandas-docs/version/0.18.0/generated/pandas.DataFrame.resample.html) method you can specify any interval of time (I've gone for 14 days below) and count the upvotes that came your way. The one truly successful post I wrote sticks out like a sore thumb:"
   ]
  },
  {
   "cell_type": "code",
   "execution_count": 32,
   "metadata": {
    "collapsed": false
   },
   "outputs": [
    {
     "data": {
      "image/png": "[encoded data removed]",
      "text/plain": [
       "<matplotlib.figure.Figure at 0x7fcadd997d30>"
      ]
     },
     "metadata": {},
     "output_type": "display_data"
    }
   ],
   "source": [
    "df2 = df.loc[df['rep_type'] == 2].set_index('date')\n",
    "\n",
    "s = df2.resample('14d').size()\n",
    "s.plot.bar();"
   ]
  },
  {
   "cell_type": "markdown",
   "metadata": {
    "collapsed": true
   },
   "source": [
    "I rarely hit the reputation cap (you can only get a maximum of 200 from upvotes each day). But on the few days I have, how many upvotes have not gained me *any* reputation?"
   ]
  },
  {
   "cell_type": "code",
   "execution_count": 39,
   "metadata": {
    "collapsed": false
   },
   "outputs": [
    {
     "data": {
      "text/plain": [
       "319"
      ]
     },
     "execution_count": 39,
     "metadata": {},
     "output_type": "execute_result"
    }
   ],
   "source": [
    "df2 = df.loc[(df['rep_type'] == 2) & (df['rep_change'] == 0)]\n",
    "len(df2)"
   ]
  },
  {
   "cell_type": "markdown",
   "metadata": {},
   "source": [
    "It's still a long way to 100k for me. \n",
    "\n",
    "As I write this today, I've answered over 600 questions and asked 2 myself. How many *different* posts of mine are typically upvoted each day?"
   ]
  },
  {
   "cell_type": "code",
   "execution_count": 54,
   "metadata": {
    "collapsed": false
   },
   "outputs": [
    {
     "data": {
      "text/plain": [
       "0     67\n",
       "1    140\n",
       "2    160\n",
       "3    105\n",
       "4     68\n",
       "5     28\n",
       "6      8\n",
       "7      5\n",
       "8      4\n",
       "9      1\n",
       "Name: post_id, dtype: int64"
      ]
     },
     "execution_count": 54,
     "metadata": {},
     "output_type": "execute_result"
    }
   ],
   "source": [
    "df2 = df.loc[(df['rep_type'] == 2)]\n",
    "\n",
    "s = df2.groupby('date')['post_id'].nunique()\n",
    "\n",
    "# fill in missing dates by reindexing\n",
    "dates = pd.date_range(df.ix[0, 'date'], '2016-03-15')\n",
    "s = s.reindex(dates, fill_value=0)\n",
    "\n",
    "s.value_counts(sort=False)"
   ]
  },
  {
   "cell_type": "markdown",
   "metadata": {},
   "source": [
    "So most frequently I have *two* upvoted posts. On roughly the same number of days I've recieved either 0 upvotes or 4 upvotes."
   ]
  },
  {
   "cell_type": "code",
   "execution_count": 69,
   "metadata": {
    "collapsed": false
   },
   "outputs": [
    {
     "data": {
      "image/png": "[encoded data removed]",
      "text/plain": [
       "<matplotlib.figure.Figure at 0x7fcadd78f518>"
      ]
     },
     "metadata": {},
     "output_type": "display_data"
    }
   ],
   "source": [
    "s.value_counts(sort=False).plot.bar(color='g');"
   ]
  },
  {
   "cell_type": "markdown",
   "metadata": {},
   "source": [
    "There are many other ways that you could prod and poke this data.\n",
    "\n",
    "One interesting way to extend the data would be to join it with tag information, number of competing answers and so on. This data could be retrieved using Stack Exchange Data Explorer."
   ]
  },
  {
   "cell_type": "code",
   "execution_count": null,
   "metadata": {
    "collapsed": true
   },
   "outputs": [],
   "source": []
  }
 ],
 "metadata": {
  "kernelspec": {
   "display_name": "Python 3",
   "language": "python",
   "name": "python3"
  },
  "language_info": {
   "codemirror_mode": {
    "name": "ipython",
    "version": 3
   },
   "file_extension": ".py",
   "mimetype": "text/x-python",
   "name": "python",
   "nbconvert_exporter": "python",
   "pygments_lexer": "ipython3",
   "version": "3.4.4"
  }
 },
 "nbformat": 4,
 "nbformat_minor": 0
}
